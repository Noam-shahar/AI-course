{
  "nbformat": 4,
  "nbformat_minor": 0,
  "metadata": {
    "colab": {
      "provenance": [],
      "authorship_tag": "ABX9TyNutswXhU5p1El8duqAO97/",
      "include_colab_link": true
    },
    "kernelspec": {
      "name": "python3",
      "display_name": "Python 3"
    },
    "language_info": {
      "name": "python"
    }
  },
  "cells": [
    {
      "cell_type": "markdown",
      "metadata": {
        "id": "view-in-github",
        "colab_type": "text"
      },
      "source": [
        "<a href=\"https://colab.research.google.com/github/Noam-shahar/AI-course/blob/main/HW4_Fashion_MNIST_Dataset_Classification_CNN_Model.ipynb\" target=\"_parent\"><img src=\"https://colab.research.google.com/assets/colab-badge.svg\" alt=\"Open In Colab\"/></a>"
      ]
    },
    {
      "cell_type": "markdown",
      "source": [
        "Link to prompts: https://chat.openai.com/share/1eecc4b5-037d-41b7-87c0-ad5b1cd928cb"
      ],
      "metadata": {
        "id": "XZGQglfAhebv"
      }
    },
    {
      "cell_type": "code",
      "source": [
        "import tensorflow as tf\n",
        "import tensorflow_datasets as tfds\n",
        "import matplotlib.pyplot as plt\n",
        "\n",
        "# Load the Fashion MNIST dataset\n",
        "(train_dataset, test_dataset), info = tfds.load('fashion_mnist', split=['train', 'test'], as_supervised=True, with_info=True)\n",
        "\n",
        "# Normalize pixel values to be between 0 and 1\n",
        "def normalize_img(image, label):\n",
        "    return tf.cast(image, tf.float32) / 255.0, label\n",
        "\n",
        "# Normalize the datasets\n",
        "train_dataset = train_dataset.map(normalize_img)\n",
        "test_dataset = test_dataset.map(normalize_img)\n",
        "\n",
        "# Build the Convolutional Neural Network\n",
        "model = tf.keras.Sequential([\n",
        "    tf.keras.layers.Conv2D(32, (3, 3), padding='same', activation='relu', input_shape=(28, 28, 1)),\n",
        "    tf.keras.layers.MaxPooling2D((2, 2)),\n",
        "    tf.keras.layers.Conv2D(64, (3, 3), padding='same', activation='relu'),\n",
        "    tf.keras.layers.MaxPooling2D((2, 2)),\n",
        "    tf.keras.layers.Flatten(),\n",
        "    tf.keras.layers.Dense(128, activation='relu'),\n",
        "    tf.keras.layers.Dense(10, activation='softmax')\n",
        "])\n",
        "\n",
        "# Compile the model\n",
        "model.compile(optimizer='adam',\n",
        "              loss='sparse_categorical_crossentropy',\n",
        "              metrics=['accuracy'])\n",
        "\n",
        "# Prepare datasets for training and testing\n",
        "BATCH_SIZE = 32\n",
        "train_dataset = train_dataset.batch(BATCH_SIZE)\n",
        "test_dataset = test_dataset.batch(BATCH_SIZE)\n",
        "\n",
        "# Train the model\n",
        "model.fit(train_dataset, epochs=5)\n",
        "\n",
        "# Evaluate the model on the test dataset\n",
        "test_loss, test_accuracy = model.evaluate(test_dataset)\n",
        "print('Test accuracy:', test_accuracy)\n",
        "\n",
        "# Visualize predictions on 5 test images\n",
        "plt.figure(figsize=(12, 6))\n",
        "for image, label in test_dataset.take(5):\n",
        "    predictions = model.predict(image)\n",
        "    predicted_class = tf.argmax(predictions, axis=1).numpy()[0]\n",
        "\n",
        "    plt.subplot(1, 5, i + 1)\n",
        "    plt.imshow(image[0], cmap='binary')\n",
        "    plt.title(f'True: {info.features[\"label\"].int2str(label[0].numpy())}\\nPredicted: {info.features[\"label\"].int2str(predicted_class)}')\n",
        "    plt.axis('off')\n",
        "\n",
        "plt.tight_layout()\n",
        "plt.show()\n"
      ],
      "metadata": {
        "colab": {
          "base_uri": "https://localhost:8080/",
          "height": 597
        },
        "id": "XOCKjiKaiUkT",
        "outputId": "d25601ed-4b57-4c6c-b765-1d4dfce4d3c3"
      },
      "execution_count": 17,
      "outputs": [
        {
          "output_type": "stream",
          "name": "stdout",
          "text": [
            "Epoch 1/5\n",
            "1875/1875 [==============================] - 92s 49ms/step - loss: 0.3983 - accuracy: 0.8569\n",
            "Epoch 2/5\n",
            "1875/1875 [==============================] - 84s 45ms/step - loss: 0.2597 - accuracy: 0.9046\n",
            "Epoch 3/5\n",
            "1875/1875 [==============================] - 84s 45ms/step - loss: 0.2140 - accuracy: 0.9207\n",
            "Epoch 4/5\n",
            "1875/1875 [==============================] - 83s 44ms/step - loss: 0.1788 - accuracy: 0.9333\n",
            "Epoch 5/5\n",
            "1875/1875 [==============================] - 82s 44ms/step - loss: 0.1487 - accuracy: 0.9458\n",
            "313/313 [==============================] - 6s 19ms/step - loss: 0.2636 - accuracy: 0.9165\n",
            "Test accuracy: 0.9164999723434448\n",
            "1/1 [==============================] - 0s 119ms/step\n",
            "1/1 [==============================] - 0s 28ms/step\n",
            "1/1 [==============================] - 0s 28ms/step\n",
            "1/1 [==============================] - 0s 28ms/step\n",
            "1/1 [==============================] - 0s 31ms/step\n"
          ]
        },
        {
          "output_type": "display_data",
          "data": {
            "text/plain": [
              "<Figure size 1200x600 with 1 Axes>"
            ],
            "image/png": "[encoded data removed]"
          },
          "metadata": {}
        }
      ]
    }
  ]
}