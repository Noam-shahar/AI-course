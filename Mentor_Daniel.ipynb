{
  "nbformat": 4,
  "nbformat_minor": 0,
  "metadata": {
    "colab": {
      "provenance": [],
      "gpuType": "T4",
      "authorship_tag": "ABX9TyNuaLcRqQcqe+BHUAEm20Mw",
      "include_colab_link": true
    },
    "kernelspec": {
      "name": "python3",
      "display_name": "Python 3"
    },
    "language_info": {
      "name": "python"
    },
    "accelerator": "GPU"
  },
  "cells": [
    {
      "cell_type": "markdown",
      "metadata": {
        "id": "view-in-github",
        "colab_type": "text"
      },
      "source": [
        "<a href=\"https://colab.research.google.com/github/Noam-shahar/AI-course/blob/main/Mentor_Daniel.ipynb\" target=\"_parent\"><img src=\"https://colab.research.google.com/assets/colab-badge.svg\" alt=\"Open In Colab\"/></a>"
      ]
    },
    {
      "cell_type": "markdown",
      "source": [
        "Clean slate:"
      ],
      "metadata": {
        "id": "-jvj98OxLBo2"
      }
    },
    {
      "cell_type": "code",
      "source": [
        "import os\n",
        "\n",
        "directory = '/content/sample_data'\n",
        "\n",
        "# Check if the directory exists\n",
        "if os.path.exists(directory):\n",
        "    # Remove all files in the directory\n",
        "    for filename in os.listdir(directory):\n",
        "        file_path = os.path.join(directory, filename)\n",
        "        try:\n",
        "            if os.path.isfile(file_path):\n",
        "                os.remove(file_path)\n",
        "        except Exception as e:\n",
        "            print(f\"Error deleting {file_path}: {e}\")\n",
        "else:\n",
        "    print(f\"Directory '{directory}' does not exist.\")"
      ],
      "metadata": {
        "id": "5hTR1yKDLBdH"
      },
      "execution_count": 1,
      "outputs": []
    },
    {
      "cell_type": "markdown",
      "source": [
        "Organizing:"
      ],
      "metadata": {
        "id": "NCxIvmk-L_HO"
      }
    },
    {
      "cell_type": "code",
      "source": [
        "import shutil\n",
        "\n",
        "from google.colab import drive\n",
        "drive.mount('/content/drive')\n",
        "\n",
        "folder_path = '/content/sample_data'\n",
        "\n",
        "source_path = '/content/drive/MyDrive/dataset_sized_5000'\n",
        "destination_path = os.path.join(folder_path, os.path.basename(source_path))\n",
        "\n",
        "# Perform the copy operation\n",
        "shutil.copytree(source_path, destination_path)"
      ],
      "metadata": {
        "colab": {
          "base_uri": "https://localhost:8080/",
          "height": 53
        },
        "id": "75tatB6LL-1J",
        "outputId": "49c451e4-37aa-43cc-bcda-8fa75fba279f"
      },
      "execution_count": 2,
      "outputs": [
        {
          "output_type": "stream",
          "name": "stdout",
          "text": [
            "Mounted at /content/drive\n"
          ]
        },
        {
          "output_type": "execute_result",
          "data": {
            "text/plain": [
              "'/content/sample_data/dataset_sized_5000'"
            ],
            "application/vnd.google.colaboratory.intrinsic+json": {
              "type": "string"
            }
          },
          "metadata": {},
          "execution_count": 2
        }
      ]
    },
    {
      "cell_type": "markdown",
      "source": [
        "The model:\n",
        "\n"
      ],
      "metadata": {
        "id": "DJD-mRRhb4k7"
      }
    },
    {
      "cell_type": "code",
      "source": [
        "import tensorflow as tf\n",
        "from tensorflow.keras import layers, models\n",
        "import matplotlib.pyplot as plt\n",
        "from tensorflow.keras.preprocessing.image import ImageDataGenerator\n",
        "\n",
        "# Constants\n",
        "data_dir = '/content/sample_data/dataset_sized_5000'\n",
        "split_p = 0.2\n",
        "batch_size = 32\n",
        "image_size = (90, 90)\n",
        "num_classes = 5\n",
        "\n",
        "# Create ImageDataGenerator instance with rescaling only\n",
        "datagen = ImageDataGenerator(rescale=1.0 / 255, validation_split=0.2)\n",
        "\n",
        "# Flow images from the entire dataset directory with the validation split\n",
        "train_generator = datagen.flow_from_directory(\n",
        "    data_dir,\n",
        "    target_size=image_size,\n",
        "    batch_size=batch_size,\n",
        "    color_mode='grayscale',\n",
        "    class_mode='sparse',\n",
        "    subset='training'  # This retrieves the training data\n",
        ")\n",
        "\n",
        "validation_generator = datagen.flow_from_directory(\n",
        "    data_dir,\n",
        "    target_size=image_size,\n",
        "    batch_size=batch_size,\n",
        "    color_mode='grayscale',\n",
        "    class_mode='sparse',\n",
        "    subset='validation'  # This retrieves the validation data\n",
        ")\n",
        "\n",
        "# Build CNN model\n",
        "model = models.Sequential([\n",
        "    layers.Conv2D(32, (3, 3), activation='relu', input_shape=(90, 90, 1)),\n",
        "    layers.MaxPooling2D((2, 2)),\n",
        "    layers.Conv2D(64, (3, 3), activation='relu'),\n",
        "    layers.MaxPooling2D((2, 2)),\n",
        "    layers.Conv2D(128, (3, 3), activation='relu'),\n",
        "    layers.MaxPooling2D((2, 2)),\n",
        "    layers.Flatten(),\n",
        "    layers.Dense(128, activation='relu'),\n",
        "    layers.Dense(num_classes, activation='softmax')\n",
        "])\n",
        "\n",
        "# Compile the model\n",
        "model.compile(optimizer='adam',\n",
        "              loss='sparse_categorical_crossentropy',\n",
        "              metrics=['accuracy'])\n",
        "\n",
        "# Train the model using augmented datasets\n",
        "history = model.fit(\n",
        "    train_generator,\n",
        "    steps_per_epoch=train_generator.samples // batch_size,\n",
        "    epochs=10,\n",
        "    validation_data=validation_generator,\n",
        "    validation_steps=validation_generator.samples // batch_size\n",
        ")\n",
        "\n",
        "# Evaluate model on the test set\n",
        "test_loss, test_accuracy = model.evaluate(validation_generator)\n",
        "print(f\"Test accuracy: {test_accuracy}\")\n"
      ],
      "metadata": {
        "colab": {
          "base_uri": "https://localhost:8080/"
        },
        "id": "sdwa_-95b4Q3",
        "outputId": "b476575e-dc7f-4032-8f4b-0de6ab96531b"
      },
      "execution_count": 9,
      "outputs": [
        {
          "output_type": "stream",
          "name": "stdout",
          "text": [
            "Found 4000 images belonging to 5 classes.\n",
            "Found 1000 images belonging to 5 classes.\n",
            "Epoch 1/10\n",
            "125/125 [==============================] - 7s 38ms/step - loss: 0.3600 - accuracy: 0.8580 - val_loss: 0.0771 - val_accuracy: 0.9748\n",
            "Epoch 2/10\n",
            "125/125 [==============================] - 3s 24ms/step - loss: 0.0384 - accuracy: 0.9898 - val_loss: 0.0095 - val_accuracy: 0.9990\n",
            "Epoch 3/10\n",
            "125/125 [==============================] - 3s 25ms/step - loss: 0.0362 - accuracy: 0.9895 - val_loss: 0.0116 - val_accuracy: 0.9970\n",
            "Epoch 4/10\n",
            "125/125 [==============================] - 3s 24ms/step - loss: 0.0019 - accuracy: 1.0000 - val_loss: 0.0080 - val_accuracy: 0.9980\n",
            "Epoch 5/10\n",
            "125/125 [==============================] - 5s 40ms/step - loss: 5.2963e-04 - accuracy: 1.0000 - val_loss: 0.0062 - val_accuracy: 0.9980\n",
            "Epoch 6/10\n",
            "125/125 [==============================] - 3s 26ms/step - loss: 2.8000e-04 - accuracy: 1.0000 - val_loss: 0.0070 - val_accuracy: 0.9980\n",
            "Epoch 7/10\n",
            "125/125 [==============================] - 3s 25ms/step - loss: 1.7667e-04 - accuracy: 1.0000 - val_loss: 0.0064 - val_accuracy: 0.9980\n",
            "Epoch 8/10\n",
            "125/125 [==============================] - 4s 31ms/step - loss: 1.2352e-04 - accuracy: 1.0000 - val_loss: 0.0066 - val_accuracy: 0.9980\n",
            "Epoch 9/10\n",
            "125/125 [==============================] - 3s 28ms/step - loss: 9.1305e-05 - accuracy: 1.0000 - val_loss: 0.0059 - val_accuracy: 0.9980\n",
            "Epoch 10/10\n",
            "125/125 [==============================] - 3s 25ms/step - loss: 7.0612e-05 - accuracy: 1.0000 - val_loss: 0.0061 - val_accuracy: 0.9980\n",
            "32/32 [==============================] - 1s 24ms/step - loss: 0.0061 - accuracy: 0.9980\n",
            "Test accuracy: 0.9980000257492065\n"
          ]
        }
      ]
    },
    {
      "cell_type": "code",
      "source": [
        "import os\n",
        "import random\n",
        "import numpy as np\n",
        "from tensorflow.keras.preprocessing import image\n",
        "\n",
        "# Get a list of all class names (assuming subfolders are named after classes)\n",
        "class_names = sorted(os.listdir(data_dir))\n",
        "\n",
        "# Select a random class\n",
        "random_class = random.choice(class_names)\n",
        "\n",
        "# Path to a random image within the selected class\n",
        "random_image_path = os.path.join(data_dir, random_class)\n",
        "random_image = random.choice(os.listdir(random_image_path))\n",
        "\n",
        "# Load the random image and preprocess it\n",
        "img_path = os.path.join(random_image_path, random_image)\n",
        "img = image.load_img(img_path, target_size=(90, 90), color_mode='grayscale')\n",
        "img_array = image.img_to_array(img)\n",
        "img_array = np.expand_dims(img_array, axis=0)\n",
        "img_array /= 255.0  # Normalize pixel values\n",
        "\n",
        "# Display the image\n",
        "plt.imshow(np.squeeze(img_array), cmap='gray')\n",
        "plt.axis('off')\n",
        "plt.title(f\"Random Image from class {random_class}\")\n",
        "\n",
        "# Make a prediction\n",
        "prediction = model.predict(img_array)\n",
        "predicted_class = np.argmax(prediction)\n",
        "\n",
        "# Print predicted class\n",
        "print(f\"Predicted class: {class_names[predicted_class]}\")\n",
        "\n",
        "plt.show()\n"
      ],
      "metadata": {
        "colab": {
          "base_uri": "https://localhost:8080/",
          "height": 463
        },
        "id": "EfySL2QeXHNX",
        "outputId": "77550fb0-f9a3-41d5-c9cb-ed4c7b2e8b50"
      },
      "execution_count": 19,
      "outputs": [
        {
          "output_type": "stream",
          "name": "stdout",
          "text": [
            "1/1 [==============================] - 0s 18ms/step\n",
            "Predicted class: cube\n"
          ]
        },
        {
          "output_type": "display_data",
          "data": {
            "text/plain": [
              "<Figure size 640x480 with 1 Axes>"
            ],
            "image/png": "[encoded data removed]"
          },
          "metadata": {}
        }
      ]
    }
  ]
}